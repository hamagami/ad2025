{
  "nbformat": 4,
  "nbformat_minor": 0,
  "metadata": {
    "colab": {
      "provenance": [],
      "authorship_tag": "ABX9TyNgSiIbbFrpETD9/CrSZvWg",
      "include_colab_link": true
    },
    "kernelspec": {
      "name": "python3",
      "display_name": "Python 3"
    },
    "language_info": {
      "name": "python"
    }
  },
  "cells": [
    {
      "cell_type": "markdown",
      "metadata": {
        "id": "view-in-github",
        "colab_type": "text"
      },
      "source": [
        "<a href=\"https://colab.research.google.com/github/hamagami/ad2025/blob/main/%E6%AD%A3%E8%A6%8F%E5%88%86%E5%B8%83%E3%81%8B%E3%82%89%E3%81%AE%E7%95%B0%E5%B8%B8%E6%A4%9C%E7%9F%A5.ipynb\" target=\"_parent\"><img src=\"https://colab.research.google.com/assets/colab-badge.svg\" alt=\"Open In Colab\"/></a>"
      ]
    },
    {
      "cell_type": "markdown",
      "source": [
        "# 1次元データの標準化(Zスコア)による異常検知\n",
        "1次元の変数が正規分布になっていることを仮定した基本的な異常検知\n",
        "1. 1次元の正規分布（相当）から学習用の「正常」データを作成\n",
        "2. テスト用に「正常＋異常」を混ぜたデータを作成\n",
        "3. 学習データから平均・標準偏差を推定\n",
        "4. Zスコアを計算し、標準正規のしきい値で異常判定（両側）\n",
        "5. 可視化（元の値のヒスト＋PDF、Zスコアのヒスト＋PDF）"
      ],
      "metadata": {
        "id": "6P17Gnxm6ZGF"
      }
    },
    {
      "cell_type": "code",
      "execution_count": 1,
      "metadata": {
        "id": "21Eddxmr5PM0"
      },
      "outputs": [],
      "source": [
        "import numpy as np\n",
        "import matplotlib.pyplot as plt\n",
        "from scipy.stats import norm"
      ]
    },
    {
      "cell_type": "code",
      "source": [],
      "metadata": {
        "id": "cFck4Zkl6Yxp"
      },
      "execution_count": null,
      "outputs": []
    },
    {
      "cell_type": "code",
      "source": [
        "# 再現性があるようにランダムシードを固定\n",
        "np.random.seed(0)"
      ],
      "metadata": {
        "id": "M2zTzDD85SVG"
      },
      "execution_count": 2,
      "outputs": []
    },
    {
      "cell_type": "code",
      "source": [
        "# ===== 1) 学習データ（正常）と 2) テストデータ（正常＋異常） =====\n",
        "mu = 2.0          # 真の平均（説明用）\n",
        "sigma = 1.5       # 真の標準偏差（説明用）\n",
        "\n",
        "#　同じ平均、分散で学習データと、テストデータの一部をつくる\n",
        "train = np.random.normal(mu, sigma, size=400)        # 学習：正常のみ\n",
        "test_norm = np.random.normal(mu, sigma, size=200)    # テスト：正常\n",
        "\n",
        "# テストデータに加える異常値は、平均をずらしてつくる\n",
        "mu_out = mu + 6.0\n",
        "sigma_out = 1.0\n",
        "test_out = np.random.normal(mu_out, sigma_out, size=20)\n",
        "#テストデータに加えておく\n",
        "test = np.hstack([test_norm, test_out])\n",
        "labels = np.hstack([np.zeros(len(test_norm), dtype=int), np.ones(len(test_out), dtype=int)])  # 0=正常,1=異常(真)"
      ],
      "metadata": {
        "id": "9elL5B7L5XFr"
      },
      "execution_count": 9,
      "outputs": []
    },
    {
      "cell_type": "code",
      "source": [
        "# 生成したデータを可視化\n",
        "# 学習データに対して、テストデータは少し右にずれたデータを加えてある。右側に外れ値がでている\n",
        "plt.figure(figsize=(8, 4))\n",
        "plt.hist(train, bins=30, alpha=0.6, label=\"Train data (normal)\")\n",
        "plt.hist(test, bins=30, alpha=0.6, label=\"Test data (normal + outlier)\")\n",
        "plt.title(\"Histograms of Train and Test Data\")\n",
        "plt.xlabel(\"Value\")\n",
        "plt.ylabel(\"Frequency\")\n",
        "plt.legend()\n",
        "plt.grid(True)\n",
        "plt.show()"
      ],
      "metadata": {
        "id": "1mjAb9Xm4csA"
      },
      "execution_count": null,
      "outputs": []
    },
    {
      "cell_type": "code",
      "source": [
        "# ===== 3) 学習データから平均・標準偏差を推定 =====\n",
        "mu_hat = train.mean()\n",
        "sigma_hat = train.std(ddof=1)  # 不偏標準偏差\n",
        "# 理論値は平均2, 分散1.5\n",
        "print(f\"mean_hat={mu_hat:.3f}, std_hat={sigma_hat:.3f}\")"
      ],
      "metadata": {
        "id": "MmKKao2r5ZkD"
      },
      "execution_count": null,
      "outputs": []
    },
    {
      "cell_type": "code",
      "source": [
        "# ===== 4) Zスコアの計算＆しきい値で判定（両側） =====\n",
        "# Zスコアは、分布を標準化（分布を平均0, 分散1）にしたときの横軸の値\n",
        "# Zスコアにして扱うことで、平均・分散にかかわらない確率的な判定が可能になる\n",
        "def zscore(x, mu, s):\n",
        "    return (x - mu) / s\n",
        "# テストデータの各値に対して（学習データの分布を基準にした）Zスコアを求める\n",
        "Z = zscore(test, mu_hat, sigma_hat)"
      ],
      "metadata": {
        "id": "WUdocTxW5bGe"
      },
      "execution_count": 15,
      "outputs": []
    },
    {
      "cell_type": "code",
      "source": [
        "alpha = 0.99  # 「正常」とみなす両側の信頼水準（例: 0.99 → 有意水準1%）つまり平均から遠く離れた1% のデータは異常とみなすという意味\n",
        "# 両側判定の場合は上側0.5%, 下側0.5% をはずれと定義する。片側判定の場合はどちらか1%をはずれと定義する。\n",
        "# ここでは両側判定を行っているので、上側のカットオフは　(1+alpha)/2  (つまり (1+0.99)/2 = 0.995)\n",
        "# norm.ppf はカットオフ値をzスコアに変換する関数。両側検定なので、下側のｚスコアは符号を判定させた値であることに注意\n",
        "z_thr = norm.ppf((1 + alpha) / 2)\n",
        "# つまり、zスコアの絶対値に対して判定することで、両側の判定になる\n",
        "pred = (np.abs(Z) > z_thr).astype(int)  # |Z| がしきい値を超えたら「異常」\n",
        "\n",
        "# 真値と判定値の一致度を計算\n",
        "tp = ((pred==1) & (labels==1)).sum() # true positive (異常を異常と正しく判定した数)\n",
        "fp = ((pred==1) & (labels==0)).sum() # false positive (正常を異常と誤って判定した数)\n",
        "fn = ((pred==0) & (labels==1)).sum() # false negative (異常を正常と誤って判定した数)\n",
        "precision = tp / (tp+fp) if (tp+fp)>0 else 0.0\n",
        "recall    = tp / (tp+fn) if (tp+fn)>0 else 0.0\n",
        "\n",
        "print(f\"mean_hat={mu_hat:.3f}, std_hat={sigma_hat:.3f}\")\n",
        "print(f\"two-sided z-threshold (alpha={alpha}): ±{z_thr:.3f}\")\n",
        "print(f\"TP={tp}, FP={fp}, FN={fn}\")\n",
        "print(f\"precision={precision:.3f}, recall={recall:.3f}\")"
      ],
      "metadata": {
        "id": "l4TggXbl5cat"
      },
      "execution_count": null,
      "outputs": []
    },
    {
      "cell_type": "code",
      "source": [
        "# ===== 5) 可視化 =====\n",
        "# (a) 元の値のヒストグラム + 推定正規PDF + しきい値（x空間の線）\n",
        "x_grid = np.linspace(min(test.min(), train.min()) - 3*sigma_hat,\n",
        "                     max(test.max(), train.max()) + 3*sigma_hat, 500)\n",
        "pdf = norm.pdf(x_grid, loc=mu_hat, scale=sigma_hat)\n",
        "\n",
        "x_thr_low  = mu_hat - z_thr * sigma_hat\n",
        "x_thr_high = mu_hat + z_thr * sigma_hat\n",
        "\n",
        "plt.figure(figsize=(7,4))\n",
        "plt.hist(test[labels==0], bins=30, density=True, alpha=0.6, label=\"Test normals\")\n",
        "plt.hist(test[labels==1], bins=15, density=True, alpha=0.6, label=\"Test outliers\")\n",
        "plt.plot(x_grid, pdf, label=\"Fitted Normal PDF\")\n",
        "plt.axvline(x_thr_low,  linestyle='--', label=\"lower threshold\")\n",
        "plt.axvline(x_thr_high, linestyle='--', label=\"upper threshold\")\n",
        "plt.title(\"Original values: histogram + fitted normal PDF\")\n",
        "plt.xlabel(\"x\"); plt.ylabel(\"density\")\n",
        "plt.legend(); plt.grid(True)\n",
        "plt.show()\n",
        "\n",
        "# (b) Zスコアのヒストグラム + 標準正規PDF + しきい値（±z）\n",
        "z_grid = np.linspace(-5, 5, 500)\n",
        "std_pdf = norm.pdf(z_grid)  # 標準正規 N(0,1)\n",
        "\n",
        "plt.figure(figsize=(7,4))\n",
        "plt.hist(Z[labels==0], bins=30, density=True, alpha=0.6, label=\"Z of normals\")\n",
        "plt.hist(Z[labels==1], bins=15, density=True, alpha=0.6, label=\"Z of outliers\")\n",
        "plt.plot(z_grid, std_pdf, label=\"Standard Normal PDF\")\n",
        "plt.axvline(-z_thr, linestyle='--', label=f\"-z_thr\")\n",
        "plt.axvline( z_thr, linestyle='--', label=f\"+z_thr\")\n",
        "plt.title(\"Z-scores: histogram + standard normal PDF\")\n",
        "plt.xlabel(\"Z\"); plt.ylabel(\"density\")\n",
        "plt.legend(); plt.grid(True)\n",
        "plt.show()\n"
      ],
      "metadata": {
        "id": "QPnT_w1S5P5Y"
      },
      "execution_count": null,
      "outputs": []
    },
    {
      "cell_type": "markdown",
      "source": [
        "データの分布に対し、右側にはみ出た分布が異常値として検出されていることがわかる"
      ],
      "metadata": {
        "id": "LEycYc5754mB"
      }
    },
    {
      "cell_type": "code",
      "source": [],
      "metadata": {
        "id": "R7yCAX7p6KH0"
      },
      "execution_count": null,
      "outputs": []
    }
  ]
}