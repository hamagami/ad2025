{
  "nbformat": 4,
  "nbformat_minor": 0,
  "metadata": {
    "colab": {
      "provenance": [],
      "include_colab_link": true
    },
    "kernelspec": {
      "name": "python3",
      "display_name": "Python 3"
    },
    "language_info": {
      "name": "python"
    }
  },
  "cells": [
    {
      "cell_type": "markdown",
      "metadata": {
        "id": "view-in-github",
        "colab_type": "text"
      },
      "source": [
        "<a href=\"https://colab.research.google.com/github/hamagami/ad2025/blob/main/index.ipynb\" target=\"_parent\"><img src=\"https://colab.research.google.com/assets/colab-badge.svg\" alt=\"Open In Colab\"/></a>"
      ]
    },
    {
      "cell_type": "markdown",
      "source": [
        "# プログラムリスト\n",
        "GoogleColabをGithubから動かすテストです\n",
        "\n",
        "*   下記はハンズオンでつかうプログラムのリンクリストです。各リンクをクリックするとGoogleColabの実行環境が立ち上がります。なかなか表示されない場合は、リロードしてください。\n",
        "*   初回の実行時に「**警告: このノートブックは Google が作成したものではありません。**」という表示が出ますが、「**このまま実行**」で問題ありません。\n",
        "*   複数のプログラムを実行していると、「セッションが多すぎる」とワーニングがでます。そのときは、実行済のプログラムを切断することで新たなプログラムを実行することができます。\n",
        "* 実行前に「ランタイム」-「ランタイムのタイプを変更」から、GPU(A100またはT4)を指定すると、特に「機械学習」「生成AI」のプログラムの動作が速くなります。ただし、無料のアカウントだと、使えるリソースに上限があるため連続してすべてのプログラムを動かすことができない場合があります。講義中ではいくつかのプログラムは実行はせず、結果を確認するだけにいたします。\n",
        "\n",
        "注意\n",
        "* 講義案内では、PyCaretを使った演習を行う予定でしたが、GoogleColabのランタイムバージョンが更新されたことで、PyCaretを動かすためにはひと手間かかるようになってしまいました。そこで、ほとんどのサンプルプログラムはPyCaretを使わない方法に変更をしています。\n",
        "* 本ページの一番最後にPyCaretを使った例も参考までに載せておきます。講義とは別に実行してもらえると、異常検知のプログラムが簡単につくれますので試してもらいたいです。\n",
        "\n",
        "\n",
        "\n"
      ],
      "metadata": {
        "id": "AKNOSpM6UaoT"
      }
    },
    {
      "cell_type": "markdown",
      "source": [
        "\n",
        "\n",
        "*   [テストページ](https://colab.research.google.com/github/hamagami/pycaret/blob/main/pycaret_install.ipynb)\n",
        "\n"
      ],
      "metadata": {
        "id": "xIOOlEgHY39a"
      }
    },
    {
      "cell_type": "markdown",
      "source": [
        "\n",
        "\n",
        "---\n"
      ],
      "metadata": {
        "id": "UR3IElDuMBA7"
      }
    },
    {
      "cell_type": "markdown",
      "source": [
        "\n",
        "\n",
        "# 1.   異常検知概論\n",
        "\n",
        "\n",
        "\n",
        "\n",
        "\n",
        "\n",
        "\n"
      ],
      "metadata": {
        "id": "-ASKuuNPVDjJ"
      }
    },
    {
      "cell_type": "markdown",
      "source": [
        "#2.   異常検知のための前処理と特徴抽出\n",
        "\n",
        "\n",
        "1.   PyCaretを用いた前処理\n",
        "\n",
        "\n"
      ],
      "metadata": {
        "id": "Im0nQU6eNyoB"
      }
    },
    {
      "cell_type": "markdown",
      "source": [
        "#3.   統計的手法による異常検知\n",
        "\n",
        "1. [正規分布とZスコア](https://colab.research.google.com/github/hamagami/ad2025/blob/main/%E6%A8%99%E6%BA%96%E6%AD%A3%E8%A6%8F%E5%88%86%E5%B8%83%E3%81%A8Z%E3%82%B9%E3%82%B3%E3%82%A2.ipynb)\n",
        "2. [正規分布からの異常検知.ipynb](https://colab.research.google.com/github/hamagami/ad2025/blob/main/%E6%AD%A3%E8%A6%8F%E5%88%86%E5%B8%83%E3%81%8B%E3%82%89%E3%81%AE%E7%95%B0%E5%B8%B8%E6%A4%9C%E7%9F%A5.ipynb)\n",
        "3. [箱ひげ図・IQRによる異常検知](https://colab.research.google.com/github/hamagami/ad2025/blob/main/%E7%AE%B1%E3%81%B2%E3%81%92%E5%9B%B3%E3%81%A8IQR.ipynb)\n",
        "4. [マハラノビス距離とカイ二乗分布](https://colab.research.google.com/github/hamagami/ad2025/blob/main/%E3%83%9E%E3%83%8F%E3%83%A9%E3%83%8E%E3%83%93%E3%82%B9%E8%B7%9D%E9%9B%A2%E3%81%A8%E3%82%AB%E3%82%A4%E4%BA%8C%E4%B9%97%E5%88%86%E5%B8%83.ipynb)\n",
        "5. [ 時系列移動平均による異常検知](https://colab.research.google.com/github/hamagami/ad2025/blob/main/%E6%99%82%E7%B3%BB%E5%88%97%E7%A7%BB%E5%8B%95%E5%B9%B3%E5%9D%87%E3%81%AB%E3%82%88%E3%82%8B%E7%95%B0%E5%B8%B8%E6%A4%9C%E7%9F%A5.ipynb)\n",
        "\n",
        "6. [季節変動のある時系列からの異常検知](https://colab.research.google.com/github/hamagami/ad2025/blob/main/%E5%AD%A3%E7%AF%80%E5%A4%89%E5%8B%95%E3%81%AE%E3%81%82%E3%82%8B%E6%99%82%E7%B3%BB%E5%88%97%E3%81%8B%E3%82%89%E3%81%AE%E7%95%B0%E5%B8%B8%E6%A4%9C%E7%9F%A5.ipynb)\n",
        "\n",
        "\n",
        "\n",
        "\n",
        "\n",
        "\n",
        "\n"
      ],
      "metadata": {
        "id": "-oVmACy8N5LG"
      }
    },
    {
      "cell_type": "markdown",
      "source": [
        "#4.   機械学習による異常検知\n",
        "\n",
        "\n",
        "\n",
        "1.   [k近傍法](https://colab.research.google.com/github/hamagami/ad2025/blob/main/K%E8%BF%91%E5%82%8D%E6%B3%95.ipynb)\n",
        "2. [様々な正規化とK近傍法.ipynb](https://colab.research.google.com/github/hamagami/ad2025/blob/main/%E6%A7%98%E3%80%85%E3%81%AA%E6%AD%A3%E8%A6%8F%E5%8C%96%E3%81%A8K%E8%BF%91%E5%82%8D%E6%B3%95.ipynb)\n",
        "2.   [LoF](https://colab.research.google.com/github/hamagami/ad2025/blob/main/LoF.ipynb)\n",
        "3.   [ABOD(PyOD版)](https://colab.research.google.com/github/hamagami/ad2025/blob/main/ABOD_PyOd%E7%89%88.ipynb)\n",
        "4.   [DBSCAN](https://colab.research.google.com/github/hamagami/ad2025/blob/main/DBSCAN%E3%81%AB%E3%82%88%E3%82%8B%E7%95%B0%E5%B8%B8%E6%A4%9C%E7%9F%A5.ipynb)\n",
        "5.   [One-class SVM](https://colab.research.google.com/github/hamagami/ad2025/blob/main/OneClassSVM.ipynb)\n",
        "6. [One-class SVM（ドーナツ型）](https://colab.research.google.com/github/hamagami/ad2025/blob/main/OneClassSVM_ring.ipynb)\n",
        "7.  [isolation Forest](https://colab.research.google.com/github/hamagami/ad2025/blob/main/IsolationForest.ipynb)\n",
        "8.  [isolation Forest(ドーナツ型) ](https://colab.research.google.com/github/hamagami/ad2025/blob/main/IsolationForest_ring.ipynb)\n",
        "7.   【画像】[学習済CNNをバックボーンにした異常検知（KNN）](https://colab.research.google.com/github/hamagami/ad2025/blob/main/CNN%E3%81%AB%E3%82%88%E3%82%8B%E7%95%B0%E5%B8%B8%E6%A4%9C%E7%9F%A5%EF%BC%88%E9%80%9A%E5%B8%B8%E7%89%88%EF%BC%89.ipynb)\n",
        "8.  【画像】 [学習版CNNをバックボーンにした異常検知（KNN＋マハラノビス版）](https://colab.research.google.com/github/hamagami/ad2025/blob/main/CNN%E3%81%AB%E3%82%88%E3%82%8B%E7%95%B0%E5%B8%B8%E6%A4%9C%E7%9F%A5%EF%BC%88%E3%83%9E%E3%83%8F%E3%83%A9%E3%83%8E%E3%83%93%E3%82%B9%E8%B7%9D%E9%9B%A2%E7%89%88%EF%BC%89.ipynb)\n",
        "8.   【画像】[SPADE](https://colab.research.google.com/github/hamagami/ad2025/blob/main/SPADE_timm.ipynb)\n",
        "9.   【画像】[PaDim](https://colab.research.google.com/github/hamagami/ad2025/blob/main/PaDim_timm.ipynb)\n",
        "10.   【画像】[PatchCore](https://colab.research.google.com/github/hamagami/ad2025/blob/main/SPADE_timm2.ipynb)\n",
        "10.   【画像】[Autoencoderの潜在空間を使った異常検知](https://colab.research.google.com/github/hamagami/ad2025/blob/main/AE%E6%BD%9C%E5%9C%A8%E7%A9%BA%E9%96%93%E3%81%AB%E3%81%8A%E3%81%91%E3%82%8B%E7%95%B0%E5%B8%B8%E6%A4%9C%E7%9F%A5.ipynb)\n",
        "11.  【画像】[VAEの潜在空間を使った異常検知](https://colab.research.google.com/github/hamagami/ad2025/blob/main/VAE%E3%81%AE%E6%BD%9C%E5%9C%A8%E7%A9%BA%E9%96%93%E3%81%AB%E3%81%8A%E3%81%91%E3%82%8B%E7%95%B0%E5%B8%B8%E6%A4%9C%E7%9F%A5.ipynb)\n",
        "\n",
        "\n",
        "\n"
      ],
      "metadata": {
        "id": "lRFDkR6UN9xN"
      }
    },
    {
      "cell_type": "markdown",
      "source": [
        "#5.   生成モデルによる異常検知\n",
        "\n",
        "\n",
        "1.   [生成AEの復元誤差を用いた異常検知](https://colab.research.google.com/github/hamagami/ad2025/blob/main/AE%E7%94%9F%E6%88%90%E3%83%A2%E3%83%87%E3%83%AB%E3%81%AB%E3%82%88%E3%82%8B%E7%95%B0%E5%B8%B8%E6%A4%9C%E7%9F%A5.ipynb)\n",
        "2.   [生成VAEの復元誤差を用いた異常検知](https://colab.research.google.com/github/hamagami/ad2025/blob/main/VAE%E7%94%9F%E6%88%90%E3%83%A2%E3%83%87%E3%83%AB%E3%81%AB%E3%82%88%E3%82%8B%E7%95%B0%E5%B8%B8%E6%A4%9C%E7%9F%A5.ipynb)\n",
        "3.   [UNET-AEを用いた異常検知](https://colab.research.google.com/github/hamagami/ad2025/blob/main/Unet.ipynb)\n",
        "4.   [LSTM](https://colab.research.google.com/github/hamagami/ad2025/blob/main/LSTM.ipynb)\n",
        "5.  [Reservior computing](https://colab.research.google.com/github/hamagami/ad2025/blob/main/ResorviorComputing.ipynb)\n",
        "6.   Transformer AE\n",
        "4.   [GANを用い異常検知(AnoGAN)](https://colab.research.google.com/github/hamagami/ad2025/blob/main/AnoGAN.ipynb)\n",
        "5.   [拡散モデルを用いた異常検知](https://colab.research.google.com/github/hamagami/ad2025/blob/main/%E6%8B%A1%E6%95%A3%E3%83%A2%E3%83%87%E3%83%AB%E3%82%92%E7%94%A8%E3%81%84%E3%81%9F%E7%95%B0%E5%B8%B8%E6%A4%9C%E7%9F%A5.ipynb)\n",
        "6. [AnoDDPM](https://colab.research.google.com/github/hamagami/ad2025/blob/main/AnoDDPM.ipynb)\n",
        "\n",
        "\n"
      ],
      "metadata": {
        "id": "CnZoPvA5N_dx"
      }
    },
    {
      "cell_type": "markdown",
      "source": [
        "\n",
        "#6.   その他（付録）\n",
        "\n",
        "\n",
        "1.   [PyCaretによる異常検知サンプルプログラム](https://colab.research.google.com/github/hamagami/pycaret/blob/main/pycaret_anomaly.ipynb)\n",
        "2.   [PyODによる異常検知サンプルプログラム](https://colab.research.google.com/github/hamagami/anomaly-detection/blob/main/PyOd_Compare_All_Models_withpip.ipynb#scrollTo=Dvxdg6QhEpQ8)\n",
        "3. [異常検知データセット(MVTec AD)](https://www.mvtec.com/company/research/datasets/mvtec-ad/)\n",
        "\n",
        "\n",
        "\n",
        "*   [PyCaret](https://pycaret.org/)\n",
        "*   [PyOD](https://pyod.readthedocs.io/en/latest/)\n",
        "\n",
        "\n",
        "\n",
        "\n",
        "\n"
      ],
      "metadata": {
        "id": "O3VwJ3fpOArd"
      }
    },
    {
      "cell_type": "code",
      "source": [
        "このページの左側に、様々"
      ],
      "metadata": {
        "id": "OKRVce6JUiRo"
      },
      "execution_count": null,
      "outputs": []
    }
  ]
}