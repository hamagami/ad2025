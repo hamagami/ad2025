{
  "nbformat": 4,
  "nbformat_minor": 0,
  "metadata": {
    "colab": {
      "provenance": [],
      "authorship_tag": "ABX9TyO1XcsaY6gHYdZtX/62/idg",
      "include_colab_link": true
    },
    "kernelspec": {
      "name": "python3",
      "display_name": "Python 3"
    },
    "language_info": {
      "name": "python"
    }
  },
  "cells": [
    {
      "cell_type": "markdown",
      "metadata": {
        "id": "view-in-github",
        "colab_type": "text"
      },
      "source": [
        "<a href=\"https://colab.research.google.com/github/hamagami/ad2025/blob/main/index.ipynb\" target=\"_parent\"><img src=\"https://colab.research.google.com/assets/colab-badge.svg\" alt=\"Open In Colab\"/></a>"
      ]
    },
    {
      "cell_type": "markdown",
      "source": [
        "# プログラムリスト\n",
        "GoogleColabをGithubから動かすテストです\n",
        "\n",
        "*   下記はハンズオンでつかうプログラムのリンクリストです。なかなか表示されない場合は、リロードしてください。\n",
        "*   複数開くと、「セッションが多すぎる」とワーニングがでます。これは同時に接続できるセッションに上限があるためです。そのときは、実行済のプログラムを切断することで新たなプログラムを実行することができます\n",
        "* 実行前に「ランタイム」-「ランタイムのタイプを変更」から、GPUを指定してください。利用できるようであれば　A100,T4GPUあたりを選択してください。\n",
        "* ハイメモリはOFFで結構ですが、場合によってはONのほうがいい場合もあります\n",
        "\n",
        "\n",
        "\n"
      ],
      "metadata": {
        "id": "AKNOSpM6UaoT"
      }
    },
    {
      "cell_type": "markdown",
      "source": [
        "\n",
        "\n",
        "*   [テストページ](https://colab.research.google.com/github/hamagami/pycaret/blob/main/pycaret_install.ipynb)\n",
        "\n"
      ],
      "metadata": {
        "id": "xIOOlEgHY39a"
      }
    },
    {
      "cell_type": "markdown",
      "source": [
        "\n",
        "\n",
        "# 1.   異常検知概論\n",
        "\n",
        "\n",
        "\n",
        "\n",
        "\n",
        "\n",
        "\n"
      ],
      "metadata": {
        "id": "-ASKuuNPVDjJ"
      }
    },
    {
      "cell_type": "markdown",
      "source": [
        "#2.   異常検知のための前処理と特徴抽出\n"
      ],
      "metadata": {
        "id": "Im0nQU6eNyoB"
      }
    },
    {
      "cell_type": "markdown",
      "source": [
        "#3.   統計的手法による異常検知\n",
        "\n",
        "1. [正規分布からの異常検知.ipynb](https://colab.research.google.com/github/hamagami/ad2025/blob/main/%E6%AD%A3%E8%A6%8F%E5%88%86%E5%B8%83%E3%81%8B%E3%82%89%E3%81%AE%E7%95%B0%E5%B8%B8%E6%A4%9C%E7%9F%A5.ipynb)\n",
        "2. [様々な正規化とK近傍法.ipynb](https://colab.research.google.com/github/hamagami/ad2025/blob/main/%E6%A7%98%E3%80%85%E3%81%AA%E6%AD%A3%E8%A6%8F%E5%8C%96%E3%81%A8K%E8%BF%91%E5%82%8D%E6%B3%95.ipynb)\n",
        "\n",
        "3.\n",
        "\n",
        "\n",
        "\n",
        "\n",
        "\n",
        "\n"
      ],
      "metadata": {
        "id": "-oVmACy8N5LG"
      }
    },
    {
      "cell_type": "markdown",
      "source": [
        "#4.   機械学習による異常検知\n"
      ],
      "metadata": {
        "id": "lRFDkR6UN9xN"
      }
    },
    {
      "cell_type": "markdown",
      "source": [
        "#5.   生成モデルによる異常検知\n"
      ],
      "metadata": {
        "id": "CnZoPvA5N_dx"
      }
    },
    {
      "cell_type": "markdown",
      "source": [
        "\n",
        "#6.   その他（付録）"
      ],
      "metadata": {
        "id": "O3VwJ3fpOArd"
      }
    },
    {
      "cell_type": "markdown",
      "source": [],
      "metadata": {
        "id": "uMnCuBe-N1RO"
      }
    },
    {
      "cell_type": "code",
      "source": [
        "このページの左側に、様々"
      ],
      "metadata": {
        "id": "OKRVce6JUiRo"
      },
      "execution_count": null,
      "outputs": []
    }
  ]
}