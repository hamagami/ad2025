{
  "nbformat": 4,
  "nbformat_minor": 0,
  "metadata": {
    "colab": {
      "provenance": [],
      "authorship_tag": "ABX9TyOxZFeF7CHqp0Cy3h4u5AdV",
      "include_colab_link": true
    },
    "kernelspec": {
      "name": "python3",
      "display_name": "Python 3"
    },
    "language_info": {
      "name": "python"
    }
  },
  "cells": [
    {
      "cell_type": "markdown",
      "metadata": {
        "id": "view-in-github",
        "colab_type": "text"
      },
      "source": [
        "<a href=\"https://colab.research.google.com/github/hamagami/ad2025/blob/main/index.ipynb\" target=\"_parent\"><img src=\"https://colab.research.google.com/assets/colab-badge.svg\" alt=\"Open In Colab\"/></a>"
      ]
    },
    {
      "cell_type": "markdown",
      "source": [
        "# プログラムリスト\n",
        "GoogleColabをGithubから動かすテストです\n",
        "\n",
        "*   下記はハンズオンでつかうプログラムのリンクリストです。なかなか表示されない場合は、リロードしてください。\n",
        "*   複数開くと、「セッションが多すぎる」とワーニングがでます。これは同時に接続できるセッションに上限があるためです。そのときは、実行済のプログラムを切断することで新たなプログラムを実行することができます\n",
        "* 実行前に「ランタイム」-「ランタイムのタイプを変更」から、GPUを指定してください。利用できるようであれば　A100,T4GPUあたりを選択してください。\n",
        "* ハイメモリはOFFで結構ですが、場合によってはONのほうがいい場合もあります\n",
        "\n",
        "\n",
        "\n"
      ],
      "metadata": {
        "id": "AKNOSpM6UaoT"
      }
    },
    {
      "cell_type": "markdown",
      "source": [
        "\n",
        "\n",
        "*   [テストページ](https://colab.research.google.com/github/hamagami/pycaret/blob/main/pycaret_install.ipynb)\n",
        "\n"
      ],
      "metadata": {
        "id": "xIOOlEgHY39a"
      }
    },
    {
      "cell_type": "markdown",
      "source": [
        "\n",
        "\n",
        "# 1.   異常検知概論\n",
        "\n",
        "\n",
        "\n",
        "\n",
        "\n",
        "\n",
        "\n"
      ],
      "metadata": {
        "id": "-ASKuuNPVDjJ"
      }
    },
    {
      "cell_type": "markdown",
      "source": [
        "#2.   異常検知のための前処理と特徴抽出\n"
      ],
      "metadata": {
        "id": "Im0nQU6eNyoB"
      }
    },
    {
      "cell_type": "markdown",
      "source": [
        "#3.   統計的手法による異常検知\n",
        "\n",
        "1. [正規分布からの異常検知.ipynb](https://colab.research.google.com/github/hamagami/ad2025/blob/main/%E6%AD%A3%E8%A6%8F%E5%88%86%E5%B8%83%E3%81%8B%E3%82%89%E3%81%AE%E7%95%B0%E5%B8%B8%E6%A4%9C%E7%9F%A5.ipynb)\n",
        "2. [様々な正規化とK近傍法.ipynb](https://colab.research.google.com/github/hamagami/ad2025/blob/main/%E6%A7%98%E3%80%85%E3%81%AA%E6%AD%A3%E8%A6%8F%E5%8C%96%E3%81%A8K%E8%BF%91%E5%82%8D%E6%B3%95.ipynb)\n",
        "\n",
        "3. [マハラノビス距離とカイ二乗分布](https://colab.research.google.com/github/hamagami/ad2025/blob/main/%E3%83%9E%E3%83%8F%E3%83%A9%E3%83%8E%E3%83%93%E3%82%B9%E8%B7%9D%E9%9B%A2%E3%81%A8%E3%82%AB%E3%82%A4%E4%BA%8C%E4%B9%97%E5%88%86%E5%B8%83.ipynb)\n",
        "\n",
        "\n",
        "\n",
        "\n",
        "\n",
        "\n"
      ],
      "metadata": {
        "id": "-oVmACy8N5LG"
      }
    },
    {
      "cell_type": "markdown",
      "source": [
        "#4.   機械学習による異常検知\n",
        "\n",
        "\n",
        "\n",
        "1.   k近傍法\n",
        "2.   LoF\n",
        "3.   ABOD\n",
        "4.   DBSCAN\n",
        "5.   One-class SVM\n",
        "6.   学習済CNNをバックボーンにした異常検知\n",
        "7.   SPADE\n",
        "8.   PaDim\n",
        "9.   Autoencoderの潜在空間を使った異常検知\n",
        "\n",
        "\n",
        "\n"
      ],
      "metadata": {
        "id": "lRFDkR6UN9xN"
      }
    },
    {
      "cell_type": "markdown",
      "source": [
        "#5.   生成モデルによる異常検知\n",
        "\n",
        "\n",
        "1.   生成AErの復元誤差を用いた異常検知\n",
        "2.   生成VAEの復元誤差を用いた異常検知\n",
        "3.   UNETを用いた異常検知\n",
        "4.   GANを用い異常検知\n",
        "5.   拡散モデルを用いた異常検知\n",
        "\n"
      ],
      "metadata": {
        "id": "CnZoPvA5N_dx"
      }
    },
    {
      "cell_type": "markdown",
      "source": [
        "\n",
        "#6.   その他（付録）"
      ],
      "metadata": {
        "id": "O3VwJ3fpOArd"
      }
    },
    {
      "cell_type": "markdown",
      "source": [],
      "metadata": {
        "id": "uMnCuBe-N1RO"
      }
    },
    {
      "cell_type": "code",
      "source": [
        "このページの左側に、様々"
      ],
      "metadata": {
        "id": "OKRVce6JUiRo"
      },
      "execution_count": null,
      "outputs": []
    }
  ]
}